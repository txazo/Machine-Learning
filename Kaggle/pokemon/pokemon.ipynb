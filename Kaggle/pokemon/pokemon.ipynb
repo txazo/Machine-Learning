{
 "cells": [
  {
   "cell_type": "code",
   "execution_count": null,
   "metadata": {},
   "outputs": [],
   "source": [
    "import pandas as pd\n",
    "import seaborn as sns\n",
    "import matplotlib.pyplot as plt\n",
    "\n",
    "%matplotlib inline"
   ]
  },
  {
   "cell_type": "code",
   "execution_count": null,
   "metadata": {},
   "outputs": [],
   "source": [
    "pokemon = pd.read_csv('Pokemon.csv')\n",
    "pokemon.head()"
   ]
  },
  {
   "cell_type": "code",
   "execution_count": null,
   "metadata": {},
   "outputs": [],
   "source": [
    "pokemon = pokemon.drop(['Generation', 'Legendary'], 1)\n",
    "pokemon.head()"
   ]
  },
  {
   "cell_type": "code",
   "execution_count": null,
   "metadata": {},
   "outputs": [],
   "source": [
    "sns.jointplot(x=\"HP\", y=\"Attack\", data=pokemon)"
   ]
  },
  {
   "cell_type": "code",
   "execution_count": null,
   "metadata": {},
   "outputs": [],
   "source": [
    "sns.boxplot(y='HP', data=pokemon)"
   ]
  },
  {
   "cell_type": "code",
   "execution_count": null,
   "metadata": {},
   "outputs": [],
   "source": [
    "sns.boxplot(data=pokemon)"
   ]
  },
  {
   "cell_type": "code",
   "execution_count": null,
   "metadata": {},
   "outputs": [],
   "source": [
    "pokemon = pokemon.drop(['#', 'Total'], 1)\n",
    "sns.boxplot(data=pokemon)"
   ]
  },
  {
   "cell_type": "code",
   "execution_count": null,
   "metadata": {},
   "outputs": [],
   "source": [
    "pokemon = pd.melt(pokemon, id_vars=['Name', 'Type 1', 'Type 2'], var_name='Stat')\n",
    "pokemon.head()"
   ]
  },
  {
   "cell_type": "code",
   "execution_count": null,
   "metadata": {},
   "outputs": [],
   "source": [
    "sns.swarmplot(x=\"Stat\", y=\"value\", data=pokemon, hue=\"Type 1\")"
   ]
  },
  {
   "cell_type": "code",
   "execution_count": null,
   "metadata": {},
   "outputs": [],
   "source": [
    "plt.figure(figsize=(12, 10))\n",
    "plt.ylim(0, 275)\n",
    "sns.swarmplot(x=\"Stat\", y=\"value\", data=pokemon, hue=\"Type 1\", dodge=True, size=7)\n",
    "plt.legend(bbox_to_anchor=(1, 1), loc=2, borderaxespad=0.)"
   ]
  },
  {
   "cell_type": "code",
   "execution_count": null,
   "metadata": {},
   "outputs": [],
   "source": [
    "sns.set_style(\"whitegrid\")\n",
    "with sns.color_palette([\n",
    "    \"#8ED752\", \"#F95643\", \"#53AFFE\", \"#C3D221\", \"#BBBDAF\",\n",
    "    \"#AD5CA2\", \"#F8E64E\", \"#F0CA42\", \"#F9AEFE\", \"#A35449\",\n",
    "    \"#FB61B4\", \"#CDBD72\", \"#7673DA\", \"#66EBFF\", \"#8B76FF\",\n",
    "    \"#8E6856\", \"#C3C1D7\", \"#75A4F9\"], n_colors=18, desat=.9):\n",
    "    plt.figure(figsize=(12,10))\n",
    "    plt.ylim(0, 275)\n",
    "    sns.swarmplot(x=\"Stat\", y=\"value\", data=pokemon, hue=\"Type 1\", dodge=True, size=7)\n",
    "    plt.legend(bbox_to_anchor=(1, 1), loc=2, borderaxespad=0.)"
   ]
  }
 ],
 "metadata": {
  "kernelspec": {
   "display_name": "Python 3",
   "language": "python",
   "name": "python3"
  },
  "language_info": {
   "codemirror_mode": {
    "name": "ipython",
    "version": 3.0
   },
   "file_extension": ".py",
   "mimetype": "text/x-python",
   "name": "python",
   "nbconvert_exporter": "python",
   "pygments_lexer": "ipython3",
   "version": "3.6.1"
  }
 },
 "nbformat": 4,
 "nbformat_minor": 2
}