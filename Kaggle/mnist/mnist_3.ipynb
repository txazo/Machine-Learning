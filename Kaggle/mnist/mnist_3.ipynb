{
 "cells": [
  {
   "cell_type": "code",
   "execution_count": 18,
   "metadata": {},
   "outputs": [],
   "source": [
    "import pandas as pd\n",
    "import numpy as np\n",
    "from keras.models import Sequential\n",
    "from keras.utils import np_utils\n",
    "from keras.layers.core import Dense, Activation, Dropout"
   ]
  },
  {
   "cell_type": "code",
   "execution_count": 19,
   "metadata": {},
   "outputs": [],
   "source": [
    "train = pd.read_csv('train.csv')\n",
    "test = pd.read_csv('test.csv')"
   ]
  },
  {
   "cell_type": "code",
   "execution_count": 20,
   "metadata": {},
   "outputs": [
    {
     "data": {
      "text/plain": [
       "array([[ 0.,  1.,  0., ...,  0.,  0.,  0.],\n",
       "       [ 1.,  0.,  0., ...,  0.,  0.,  0.],\n",
       "       [ 0.,  1.,  0., ...,  0.,  0.,  0.],\n",
       "       ..., \n",
       "       [ 0.,  0.,  0., ...,  1.,  0.,  0.],\n",
       "       [ 0.,  0.,  0., ...,  0.,  0.,  0.],\n",
       "       [ 0.,  0.,  0., ...,  0.,  0.,  1.]])"
      ]
     },
     "execution_count": 20,
     "output_type": "execute_result",
     "metadata": {}
    }
   ],
   "source": [
    "X_train = train.iloc[:,1:].values.astype('float32')\n",
    "y_train = train.iloc[:,0].values.astype('int32')\n",
    "X_test = test.values.astype('float32')\n",
    "y_train = np_utils.to_categorical(y_train)\n",
    "y_train"
   ]
  },
  {
   "cell_type": "code",
   "execution_count": 21,
   "metadata": {},
   "outputs": [],
   "source": [
    "scale = np.max(X_train)\n",
    "X_train /= scale\n",
    "X_test /= scale\n",
    "\n",
    "mean = np.std(X_train)\n",
    "X_train -= mean\n",
    "X_test -= mean"
   ]
  },
  {
   "cell_type": "code",
   "execution_count": 22,
   "metadata": {},
   "outputs": [],
   "source": [
    "input_dim = X_train.shape[1]\n",
    "nb_classes = y_train.shape[1]"
   ]
  },
  {
   "cell_type": "code",
   "execution_count": 23,
   "metadata": {},
   "outputs": [],
   "source": [
    "model = Sequential()\n",
    "model.add(Dense(128, input_dim=input_dim))\n",
    "model.add(Activation('relu'))\n",
    "model.add(Dropout(0.15))\n",
    "model.add(Dense(128))\n",
    "model.add(Activation('relu'))\n",
    "model.add(Dropout(0.15))\n",
    "model.add(Dense(nb_classes))\n",
    "model.add(Activation('softmax'))"
   ]
  },
  {
   "cell_type": "code",
   "execution_count": 24,
   "metadata": {},
   "outputs": [
    {
     "name": "stdout",
     "output_type": "stream",
     "text": [
      "Train on 37800 samples, validate on 4200 samples\n",
      "Epoch 1/10\n",
      "37800/37800 [==============================] - 13s - loss: 0.3620 - val_loss: 0.1818\n",
      "Epoch 2/10\n",
      "37800/37800 [==============================] - 13s - loss: 0.2107 - val_loss: 0.1664\n",
      "Epoch 3/10\n",
      "37800/37800 [==============================] - 14s - loss: 0.1797 - val_loss: 0.1516\n",
      "Epoch 4/10\n",
      "37800/37800 [==============================] - 11s - loss: 0.1829 - val_loss: 0.1385\n",
      "Epoch 5/10\n",
      "37800/37800 [==============================] - 13s - loss: 0.1806 - val_loss: 0.1643\n",
      "Epoch 6/10\n",
      "37800/37800 [==============================] - 12s - loss: 0.1841 - val_loss: 0.1617\n",
      "Epoch 7/10\n",
      "37800/37800 [==============================] - 13s - loss: 0.1901 - val_loss: 0.2257\n",
      "Epoch 8/10\n",
      "37800/37800 [==============================] - 12s - loss: 0.1896 - val_loss: 0.2104\n",
      "Epoch 9/10\n",
      "37800/37800 [==============================] - 15s - loss: 0.1941 - val_loss: 0.1949\n",
      "Epoch 10/10\n",
      "37800/37800 [==============================] - 18s - loss: 0.2029 - val_loss: 0.2118\n"
     ]
    },
    {
     "data": {
      "text/plain": [
       "array([[  0.00000000e+00,   0.00000000e+00,   1.00000000e+00, ...,\n",
       "          1.99045322e-37,   0.00000000e+00,   0.00000000e+00],\n",
       "       [  1.00000000e+00,   0.00000000e+00,   1.11219860e-37, ...,\n",
       "          6.26009215e-36,   0.00000000e+00,   0.00000000e+00],\n",
       "       [  1.48004116e-08,   2.55925206e-05,   2.00577733e-06, ...,\n",
       "          1.36481868e-02,   1.79045741e-03,   9.49991167e-01],\n",
       "       ..., \n",
       "       [  0.00000000e+00,   0.00000000e+00,   9.34237360e-33, ...,\n",
       "          5.38513211e-33,   6.93065639e-31,   1.42768524e-26],\n",
       "       [  9.73914484e-23,   6.60336156e-34,   1.75319978e-24, ...,\n",
       "          1.25027848e-14,   1.32086559e-20,   1.00000000e+00],\n",
       "       [  3.66311029e-31,   7.62642726e-31,   1.00000000e+00, ...,\n",
       "          1.46387300e-20,   9.38752736e-26,   1.36606789e-28]], dtype=float32)"
      ]
     },
     "execution_count": 24,
     "output_type": "execute_result",
     "metadata": {}
    }
   ],
   "source": [
    "model.compile(loss='categorical_crossentropy', optimizer='rmsprop')\n",
    "\n",
    "model.fit(X_train, y_train, epochs=10, batch_size=16, validation_split=0.1, verbose=1)\n",
    "\n",
    "model.predict(X_test, verbose=0)"
   ]
  }
 ],
 "metadata": {
  "kernelspec": {
   "display_name": "Python 3",
   "language": "python",
   "name": "python3"
  },
  "language_info": {
   "codemirror_mode": {
    "name": "ipython",
    "version": 3.0
   },
   "file_extension": ".py",
   "mimetype": "text/x-python",
   "name": "python",
   "nbconvert_exporter": "python",
   "pygments_lexer": "ipython3",
   "version": "3.6.1"
  }
 },
 "nbformat": 4,
 "nbformat_minor": 1
}